{
 "cells": [
  {
   "cell_type": "code",
   "execution_count": null,
   "metadata": {},
   "outputs": [],
   "source": [
    "# Setup the connection between our model and the simulator in order to get the car to  drive basied on the\n",
    "# steering angles provided by the trained model(bidirectional client server)\n",
    "# communication\n",
    "# 1). so we need to install python-scoketio.\n",
    "# ************************************************************\n",
    "# IMPORTANT NOTE:\n",
    "# Generally we will install the socketio module directly pip, and socketio.Server() This package is only \n",
    "# available in python-socketio. socketio and python-socketio are two different modules.\n",
    "# pip uninstall socketio\n",
    "# then \n",
    "# pip install python-socketio\n",
    "# ************************************************************\n",
    "\n",
    "# 2). We need to initialize a python web application and to do so we need to install Flask as well.\n",
    "# Flask: is a python micro framework that's used to build web apps."
   ]
  },
  {
   "cell_type": "code",
   "execution_count": null,
   "metadata": {},
   "outputs": [],
   "source": [
    "import socketio\n",
    "import eventlet\n",
    "import numpy as np\n",
    "from flask import Flask\n",
    "from keras.models import load_model\n",
    "import base64\n",
    "from io import BytesIO\n",
    "from PIL import Image\n",
    "import cv2"
   ]
  },
  {
   "cell_type": "code",
   "execution_count": null,
   "metadata": {},
   "outputs": [],
   "source": [
    "# Initialize our web server to perform real time communication between client and server.\n",
    "# server will keep listening to event when client creates a single connection to a web socket server.\n",
    "sio = socketio.Server()\n",
    "\n",
    "# Create our python web applicaiton.\n",
    "# __name__ is a special variable will ends up having the value of '__main__'\n",
    "app = Flask(__name__)\n",
    "\n",
    "# Limit the speed of the car.\n",
    "speed_limit = 10"
   ]
  },
  {
   "cell_type": "code",
   "execution_count": null,
   "metadata": {},
   "outputs": [],
   "source": [
    "def img_preprocess(img):\n",
    "    img = img[60:135,:,:]\n",
    "    img = cv2.cvtColor(img, cv2.COLOR_RGB2YUV)\n",
    "    img = cv2.GaussianBlur(img,  (3, 3), 0)\n",
    "    img = cv2.resize(img, (200, 66))\n",
    "    img = img/255\n",
    "    return img"
   ]
  },
  {
   "cell_type": "code",
   "execution_count": null,
   "metadata": {},
   "outputs": [],
   "source": [
    "# Sends data (steering angle and throttle) to our simulator.\n",
    "def send_control(steering_angle, throttle):\n",
    "    # Emit the given data to our simulator.\n",
    "    sio.emit('steer', data = { 'steering_angle': steering_angle.__str__(),\n",
    "                               'throttle': throttle.__str__()\n",
    "    })"
   ]
  },
  {
   "cell_type": "code",
   "execution_count": null,
   "metadata": {},
   "outputs": [],
   "source": [
    "# Register a special event - telemetry(sessionID, data)\n",
    "# The simulator will send us back data which contains image of the current frame (car current position)\n",
    "# then we will run this image into our model to give us the predicted steering angle.\n",
    "@sio.on('telemetry')\n",
    "def telemetry(sid, data):\n",
    "    speed = float(data['speed'])\n",
    "    image = Image.open(BytesIO(base64.b64decode(data['image'])))\n",
    "    image = np.asarray(image)\n",
    "    image = img_preprocess(image)\n",
    "    image = np.array([image])\n",
    "    steering_angle = float(model.predict(image))\n",
    "    throttle = 1.0 - speed/speed_limit\n",
    "    print('{} {} {}'.format(steering_angle, throttle, speed))\n",
    "    send_control(steering_angle, throttle)"
   ]
  },
  {
   "cell_type": "code",
   "execution_count": null,
   "metadata": {},
   "outputs": [],
   "source": [
    "# On Connect event (sessionID, environment)\n",
    "@sio.on('connect')\n",
    "def connect(sid, environ):\n",
    "    print('Connected')\n",
    "    send_control(0, 0)"
   ]
  },
  {
   "cell_type": "code",
   "execution_count": null,
   "metadata": {},
   "outputs": [],
   "source": [
    "# Check if we executing the script then we want run our applicaiton.\n",
    "if __name__ == '__main__':\n",
    "    # Load our model.\n",
    "    model = load_model('model.h5')\n",
    "    # we need a middleware to dispatch traffic to a socketio (combine our sio with our app).\n",
    "    app = socketio.Middleware(sio, app)\n",
    "    # make our web server send any requests that made by the client to our web application itself.\n",
    "    # NOTE: eventlet.listen: will open listen socket. \n",
    "    eventlet.wsgi.server(eventlet.listen(('', 4567)), app)"
   ]
  },
  {
   "cell_type": "code",
   "execution_count": null,
   "metadata": {},
   "outputs": [],
   "source": []
  }
 ],
 "metadata": {
  "kernelspec": {
   "display_name": "Python 3",
   "language": "python",
   "name": "python3"
  },
  "language_info": {
   "codemirror_mode": {
    "name": "ipython",
    "version": 3
   },
   "file_extension": ".py",
   "mimetype": "text/x-python",
   "name": "python",
   "nbconvert_exporter": "python",
   "pygments_lexer": "ipython3",
   "version": "3.6.6"
  }
 },
 "nbformat": 4,
 "nbformat_minor": 2
}
